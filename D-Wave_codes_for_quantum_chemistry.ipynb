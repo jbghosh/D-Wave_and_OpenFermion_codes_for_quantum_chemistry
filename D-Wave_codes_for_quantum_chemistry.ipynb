{
 "cells": [
  {
   "cell_type": "code",
   "execution_count": 1,
   "metadata": {},
   "outputs": [],
   "source": [
    "import networkx as nx\n",
    "import dwave_networkx as dnx\n",
    "from dwave.system.samplers import DWaveSampler\n",
    "\n"
   ]
  },
  {
   "cell_type": "code",
   "execution_count": 2,
   "metadata": {
    "scrolled": true
   },
   "outputs": [
    {
     "data": {
      "text/plain": [
       "{'anneal_offsets': ['parameters'],\n",
       " 'anneal_schedule': ['parameters'],\n",
       " 'annealing_time': ['parameters'],\n",
       " 'answer_mode': ['parameters'],\n",
       " 'auto_scale': ['parameters'],\n",
       " 'beta': ['parameters'],\n",
       " 'chains': ['parameters'],\n",
       " 'flux_biases': ['parameters'],\n",
       " 'flux_drift_compensation': ['parameters'],\n",
       " 'h_gain_schedule': ['parameters'],\n",
       " 'initial_state': ['parameters'],\n",
       " 'max_answers': ['parameters'],\n",
       " 'num_reads': ['parameters'],\n",
       " 'num_spin_reversal_transforms': ['parameters'],\n",
       " 'postprocess': ['parameters'],\n",
       " 'programming_thermalization': ['parameters'],\n",
       " 'readout_thermalization': ['parameters'],\n",
       " 'reduce_intersample_correlation': ['parameters'],\n",
       " 'reinitialize_state': ['parameters'],\n",
       " 'warnings': [],\n",
       " 'chain_strength': [],\n",
       " 'chain_break_method': [],\n",
       " 'chain_break_fraction': [],\n",
       " 'embedding_parameters': [],\n",
       " 'return_embedding': []}"
      ]
     },
     "execution_count": 2,
     "metadata": {},
     "output_type": "execute_result"
    }
   ],
   "source": [
    "from dwave.system.samplers import DWaveSampler\n",
    "from dwave.system.composites import EmbeddingComposite\n",
    "sampler = EmbeddingComposite(DWaveSampler())\n",
    "sampler.parameters\n"
   ]
  },
  {
   "cell_type": "code",
   "execution_count": 3,
   "metadata": {},
   "outputs": [
    {
     "data": {
      "text/plain": [
       "[StructuredSolver(id='DW_2000Q_6'), UnstructuredSolver(id='hybrid_v1')]"
      ]
     },
     "execution_count": 3,
     "metadata": {},
     "output_type": "execute_result"
    }
   ],
   "source": [
    "from dwave.cloud import Client\n",
    "client = Client.from_config(token='DEV-35cf376ac0058369124f39e86c2f6923892dbf56')\n",
    "client.get_solvers()"
   ]
  },
  {
   "cell_type": "code",
   "execution_count": 4,
   "metadata": {},
   "outputs": [
    {
     "data": {
      "text/plain": [
       "array([-1.5])"
      ]
     },
     "execution_count": 4,
     "metadata": {},
     "output_type": "execute_result"
    }
   ],
   "source": [
    "from dwave.system.samplers import DWaveSampler\n",
    "from dwave.system.composites import EmbeddingComposite\n",
    "sampler = EmbeddingComposite(DWaveSampler())\n",
    "response = sampler.sample_ising({'a': -0.5, 'b': 1.0}, {('a', 'b'): -1})\n",
    "response.data_vectors['energy']    "
   ]
  },
  {
   "cell_type": "code",
   "execution_count": 5,
   "metadata": {},
   "outputs": [],
   "source": [
    "import numpy as np\n",
    "import math \n",
    "from scipy.optimize import minimize\n",
    "import matplotlib as mpl\n",
    "import matplotlib.pyplot as plt\n",
    "from scipy.optimize import minimize, minimize_scalar\n",
    "from scipy import integrate\n",
    "%matplotlib inline\n",
    "#plt.rcParams.update({'font.size': 14})\n",
    "mpl.rc('xtick', labelsize=14) \n",
    "mpl.rc('ytick', labelsize=14)\n",
    "font = {'family' : 'normal',\n",
    "        'weight' : 'normal',\n",
    "        'size'   : 13}\n",
    "\n",
    "mpl.rc('font', **font)\n",
    "\n",
    "def example_inline():\n",
    "    plt.clf()\n",
    "    \n",
    "from dwave.system.samplers import DWaveSampler\n",
    "from dwave.system.composites import EmbeddingComposite\n",
    "sampler = EmbeddingComposite(DWaveSampler())\n",
    "\n",
    "Z=2\n",
    "ub= -0.02\n",
    "lb = 0.04\n",
    "\n",
    "def objective(x,b):\n",
    "    return (1/2)*((1/ x[0]**2)+ (1/ x[1]**2)) - Z*(1/ x[0]) - Z*(1/ x[1]) + (1/ math.sqrt(x[0]**2 + x[1]**2)) - (b*(x[0]) + b*(x[1]))\n",
    "\n",
    "\n",
    "# initial guesses\n",
    "i= 0.02\n",
    "#j=1.2\n",
    "n = 2\n",
    "x0 = np.zeros(n)\n",
    "x0[0] = 1.0\n",
    "x0[1] = 5.0\n",
    "\n",
    "n5 = []\n",
    "n4 = []\n",
    "\n",
    "# show initial objective\n",
    "#print('Initial Objective: ' + str(objective(x0, i)))\n",
    "#For j in np.arange(1.1,1.5, .1):\n",
    "\n",
    "for i in np.arange(ub,lb, .001):\n",
    "        \n",
    "    solution1 = minimize(objective,x0, i, method=\"Nelder-Mead\")\n",
    "    seed = solution1.x\n",
    "    \n",
    "    solution = minimize(objective,seed, i, method=\"Nelder-Mead\")\n",
    "    x = solution.x\n",
    "    \n",
    "    #m= (x[1]-x[0])/x[1]\n",
    "    \n",
    "    h1 = (1/2)*(1/ x[0]**2) - (Z/ x[0])\n",
    "    h2 =(1/2)* (1/ x[1]**2) - (Z/ x[1])\n",
    "    #J =  (1/ math.sqrt(x[0]**2 + x[1]**2)) \n",
    "    J12=  (1/ math.sqrt(x[0]**2 + x[1]**2)) - (i*(x[0]) + i*(x[1]))\n",
    "    energy = objective(x, i)\n",
    "    #- (i*(x[0]) - i*(x[1]))\n",
    "    #print(m)\n",
    "    Norm = math.sqrt((h1)**2 + (h2)**2 + (J12)**2)\n",
    "    norm_energy = (energy) / (Norm)\n",
    "    m1 = h1 / (Norm)\n",
    "    m2 = h2 / (Norm)\n",
    "    m3 = J12 / (Norm)\n",
    "    \n",
    "    response = sampler.sample_ising({'a': m1, 'b': m2}, {('a', 'b'): m3})\n",
    "    energydwave= response.data_vectors['energy'] \n",
    "    #print(energy)\n",
    "    \n",
    "    n5.append(energydwave)\n",
    "    n4.append(norm_energy)\n",
    "   \n",
    "    \n",
    "    #print(energydwave)\n",
    "    \n",
    "    "
   ]
  },
  {
   "cell_type": "code",
   "execution_count": 6,
   "metadata": {},
   "outputs": [],
   "source": [
    "ub2= -0.02\n",
    "lb2 = 0.04\n",
    "k= np.arange(ub2,lb2, .001)"
   ]
  },
  {
   "cell_type": "code",
   "execution_count": 7,
   "metadata": {},
   "outputs": [
    {
     "name": "stderr",
     "output_type": "stream",
     "text": [
      "findfont: Font family ['normal'] not found. Falling back to DejaVu Sans.\n",
      "findfont: Font family ['normal'] not found. Falling back to DejaVu Sans.\n"
     ]
    },
    {
     "data": {
      "image/png": "[encoded data removed]",
      "text/plain": [
       "<Figure size 432x288 with 1 Axes>"
      ]
     },
     "metadata": {
      "needs_background": "light"
     },
     "output_type": "display_data"
    }
   ],
   "source": [
    "plt.figure(1)\n",
    "plt.scatter(k, n5, color='dodgerblue')\n",
    "plt.xlabel(r'$\\mathbf{\\mathcal{E}}$')\n",
    "plt.ylabel(r'$\\mathbf{Energy ~D-wave}$')\n",
    "#plt.title(r'$Normalized~ Energy ~D-wave$ vs $\\mathcal{E}$')\n",
    "plt.xlim(ub,lb)\n",
    "plt.show()"
   ]
  },
  {
   "cell_type": "code",
   "execution_count": 8,
   "metadata": {},
   "outputs": [
    {
     "data": {
      "image/png": "[encoded data removed]",
      "text/plain": [
       "<Figure size 432x288 with 1 Axes>"
      ]
     },
     "metadata": {
      "needs_background": "light"
     },
     "output_type": "display_data"
    }
   ],
   "source": [
    "plt.figure(1)\n",
    "plt.scatter(k, n4, color='dodgerblue')\n",
    "plt.xlabel(r'$\\mathbf{\\mathcal{E}}$')\n",
    "plt.ylabel(r'$\\mathbf{Normalized ~Energy}$')\n",
    "#plt.title(r'$Normalized~ Energy$ vs $\\mathcal{E}$')\n",
    "plt.xlim(ub,lb)\n",
    "plt.show()"
   ]
  },
  {
   "cell_type": "code",
   "execution_count": 9,
   "metadata": {},
   "outputs": [
    {
     "name": "stderr",
     "output_type": "stream",
     "text": [
      "findfont: Font family ['normal'] not found. Falling back to DejaVu Sans.\n",
      "findfont: Font family ['normal'] not found. Falling back to DejaVu Sans.\n"
     ]
    },
    {
     "data": {
      "image/png": "[encoded data removed]",
      "text/plain": [
       "<Figure size 432x288 with 1 Axes>"
      ]
     },
     "metadata": {
      "needs_background": "light"
     },
     "output_type": "display_data"
    },
    {
     "data": {
      "image/png": "[encoded data removed]",
      "text/plain": [
       "<Figure size 432x288 with 1 Axes>"
      ]
     },
     "metadata": {
      "needs_background": "light"
     },
     "output_type": "display_data"
    }
   ],
   "source": [
    "import numpy as np\n",
    "import math \n",
    "from scipy.optimize import minimize\n",
    "import matplotlib as mpl\n",
    "import matplotlib.pyplot as plt\n",
    "from scipy.optimize import minimize, minimize_scalar\n",
    "from scipy import integrate\n",
    "%matplotlib inline\n",
    "from dwave.system.samplers import DWaveSampler\n",
    "from dwave.system.composites import EmbeddingComposite\n",
    "sampler = EmbeddingComposite(DWaveSampler())\n",
    "\n",
    "Z=2\n",
    "ub= -0.02\n",
    "lb = 0.04\n",
    "\n",
    "def objective(x,b):\n",
    "    return (1/2)*((1/ x[0]**2)+ (1/ x[1]**2)) - Z*(1/ x[0]) - Z*(1/ x[1]) + (1/ math.sqrt(x[0]**2 + x[1]**2)) - (b*(x[0]) + b*(x[1]))\n",
    "\n",
    "\n",
    "# initial guesses\n",
    "i= 0.02\n",
    "#j=1.2\n",
    "n = 2\n",
    "x0 = np.zeros(n)\n",
    "x0[0] = 1.0\n",
    "x0[1] = 5.0\n",
    "\n",
    "# show initial objective\n",
    "#print('Initial Objective: ' + str(objective(x0, i)))\n",
    "#For j in np.arange(1.1,1.5, .1):\n",
    "\n",
    "for i in np.arange(ub,lb, .001):\n",
    "        \n",
    "    solution1 = minimize(objective,x0, i, method=\"Nelder-Mead\")\n",
    "    seed = solution1.x\n",
    "    \n",
    "    solution = minimize(objective,seed, i, method=\"Nelder-Mead\")\n",
    "    x = solution.x\n",
    "    \n",
    "    #m= (x[1]-x[0])/x[1]\n",
    "    \n",
    "    h1 = (1/2)*(1/ x[0]**2) - (Z/ x[0])\n",
    "    h2 =(1/2)* (1/ x[1]**2) - (Z/ x[1])\n",
    "    #J =  (1/ math.sqrt(x[0]**2 + x[1]**2)) \n",
    "    J12=  (1/ math.sqrt(x[0]**2 + x[1]**2)) - (i*(x[0]) + i*(x[1]))\n",
    "    energy = objective(x, i)\n",
    "    #- (i*(x[0]) - i*(x[1]))\n",
    "    #print(m)\n",
    "    Norm = math.sqrt((h1)**2 + (h2)**2 + (J12)**2)\n",
    "    norm_energy = (energy) / (Norm)\n",
    "    m1 = h1 / (Norm)\n",
    "    m2 = h2 / (Norm)\n",
    "    m3 = J12 / (Norm)\n",
    "    \n",
    "    response = sampler.sample_ising({'a': m1, 'b': m2}, {('a', 'b'): m3})\n",
    "    energydwave= response.data_vectors['energy'] \n",
    "    #print(energy)\n",
    "    \n",
    "    m5 = energydwave\n",
    "    plt.figure(1)\n",
    "    plt.scatter(i, m5)\n",
    "    plt.xlabel(r'$\\mathcal{E}$')\n",
    "    plt.ylabel(r'$Normalized ~Energy ~D-wave$')\n",
    "    plt.title(r'$Normalized~ Energy ~D-wave$ vs $\\mathcal{E}$')\n",
    "    plt.xlim(ub,lb)\n",
    "    \n",
    "    m4 = norm_energy\n",
    "    plt.figure(2)\n",
    "    plt.scatter(i, m4)\n",
    "    plt.xlabel(r'$\\mathcal{E}$')\n",
    "    plt.ylabel(r'$Normalized ~Energy$')\n",
    "    plt.title(r'$Normalized~ Energy$ vs $\\mathcal{E}$')\n",
    "    plt.xlim(ub,lb)\n",
    "    \n",
    "    #print(m1, m2, m3, i)\n",
    "    \n",
    "    #print(energydwave)\n",
    "    \n",
    "    "
   ]
  },
  {
   "cell_type": "code",
   "execution_count": 10,
   "metadata": {
    "scrolled": true
   },
   "outputs": [
    {
     "data": {
      "image/png": "[encoded data removed]",
      "text/plain": [
       "<Figure size 432x288 with 1 Axes>"
      ]
     },
     "metadata": {
      "needs_background": "light"
     },
     "output_type": "display_data"
    },
    {
     "data": {
      "image/png": "[encoded data removed]",
      "text/plain": [
       "<Figure size 432x288 with 1 Axes>"
      ]
     },
     "metadata": {
      "needs_background": "light"
     },
     "output_type": "display_data"
    }
   ],
   "source": [
    "import numpy as np\n",
    "import math \n",
    "from scipy.optimize import minimize\n",
    "import matplotlib as mpl\n",
    "import matplotlib.pyplot as plt\n",
    "from scipy.optimize import minimize, minimize_scalar\n",
    "from scipy import integrate\n",
    "%matplotlib inline\n",
    "\n",
    "from dwave.system.samplers import DWaveSampler\n",
    "from dwave.system.composites import EmbeddingComposite\n",
    "sampler = EmbeddingComposite(DWaveSampler())\n",
    "\n",
    "Z=3\n",
    "\n",
    "def KE(x):\n",
    "    return (1/2)*((1/ x[0]**2) + (1/ x[1]**2) + (4/ x[2]**2))\n",
    "\n",
    "\n",
    "\n",
    "def PE(x):\n",
    "    return (Z*(1/ x[0]) + Z*(1/ x[1]) + Z*(1/ x[2]))\n",
    "\n",
    "def IE(x):\n",
    "    return (1/ math.sqrt(x[0]**2 + x[1]**2))+ (1/ math.sqrt(x[0]**2 + x[2]**2))+ (1/ math.sqrt(x[1]**2 + x[2]**2))\n",
    "\n",
    "def EE(x,b):\n",
    "    return -2*b*(x[0]+x[1] + x[2])\n",
    "\n",
    "def objective(x,b):\n",
    "    return KE(x) - PE(x) + IE(x) + EE(x, b)\n",
    "\n",
    "\n",
    "# initial guesses\n",
    "i= 0.02\n",
    "#j=1.2\n",
    "n = 3\n",
    "x0 = np.zeros(n)\n",
    "x0[0] = 1.0\n",
    "x0[1] = 3.0\n",
    "x0[2] = 5.0\n",
    "\n",
    "# show initial objective\n",
    "#print('Initial Objective: ' + str(objective(x0, i)))\n",
    "#For j in np.arange(1.1,1.5, .1):\n",
    "\n",
    "ub= -0.03\n",
    "lb = 0.03\n",
    "\n",
    "\n",
    "for i in np.arange(ub,lb, .001):\n",
    "        \n",
    "    solution1 = minimize(objective,x0, i, method=\"Nelder-Mead\")\n",
    "    seed = solution1.x\n",
    "    \n",
    "    solution = minimize(objective,seed, i, method=\"Nelder-Mead\")\n",
    "    x = solution.x\n",
    "    \n",
    "    m= (x[1]-x[0])/x[1]\n",
    "    \n",
    "    h1 = (1/2)*(1/ x[0]**2) - (Z/ x[0])\n",
    "    h2 = (1/2)*(1/ x[1]**2) - (Z/ x[1])\n",
    "    h3 =(1/2)* (4/ x[2]**2) - (Z/ x[2]) \n",
    "    J12 =  (1/ math.sqrt(x[0]**2 + x[1]**2)) - (i*(x[0]) + i*(x[1]))\n",
    "    J13 =  (1/ math.sqrt(x[0]**2 + x[2]**2)) - (i*(x[0]) + i*(x[2]))\n",
    "    J23 =  (1/ math.sqrt(x[1]**2 + x[2]**2)) - (i*(x[1]) + i*(x[2]))\n",
    "    energy = objective(x, i)\n",
    "    #L=  (1/ math.sqrt(x[2]**2 + x[1]**2)) - (i*(x[1]) - i*(x[2]))\n",
    "    #- (i*(x[0]) - i*(x[1]))\n",
    "    #print(m)\n",
    "    # show final objective\n",
    "    #print('Final Objective: ' + str(objective(x, i)))\n",
    "    #energy = objective(x, i)\n",
    "    #- (i*(x[0]) - i*(x[1]))\n",
    "    #print(m)\n",
    "    Norm = math.sqrt((h1)**2 + (h2)**2+ (h3)**2 + (J12)**2 + (J13)**2 + (J23)**2)\n",
    "    norm_energy = (energy) / (Norm)\n",
    "    m1 = h1 / (Norm)\n",
    "    m2 = h2 / (Norm)\n",
    "    m3 = h3/(Norm)\n",
    "    m4 = J12 / (Norm)\n",
    "    m5 = J13 / (Norm)\n",
    "    m6 = J23 / (Norm)\n",
    "    \n",
    "    response = sampler.sample_ising({'a': m1, 'b': m2, 'c': m3}, {('a', 'b'): m4, ('b', 'c'): m5, ('a', 'c'): m6})\n",
    "    norm_energydwave= response.data_vectors['energy'] \n",
    "    #print(energy)\n",
    "\n",
    "    \n",
    "    m7 = norm_energy\n",
    "    plt.figure(1)\n",
    "    plt.scatter(i, m7)\n",
    "    plt.xlabel(r'$\\mathcal{E}$')\n",
    "    plt.ylabel(r'$Normalized~energy$')\n",
    "    plt.title(r'$Normalized~energy$ vs $\\mathcal{E}$')\n",
    "    plt.xlim(ub,lb)\n",
    "    \n",
    "    m8 = norm_energydwave\n",
    "    plt.figure(2)\n",
    "    plt.scatter(i, m8)\n",
    "    plt.xlabel(r'$\\mathcal{E}$')\n",
    "    plt.ylabel(r'$D-Wave~Energy$')\n",
    "    plt.title(r'$D-Wave ~ Energy$ vs $\\mathcal{E}$')\n",
    "    plt.xlim(ub,lb)\n",
    "    \n",
    "    #print(m1, m2, m3, m4, m5, m6, i)"
   ]
  },
  {
   "cell_type": "code",
   "execution_count": 11,
   "metadata": {},
   "outputs": [],
   "source": [
    "import numpy as np\n",
    "import math \n",
    "from scipy.optimize import minimize\n",
    "import matplotlib as mpl\n",
    "import matplotlib.pyplot as plt\n",
    "from scipy.optimize import minimize, minimize_scalar\n",
    "from scipy import integrate\n",
    "%matplotlib inline\n",
    "\n",
    "#plt.rcParams.update({'font.size': 14})\n",
    "mpl.rc('xtick', labelsize=14) \n",
    "mpl.rc('ytick', labelsize=14)\n",
    "font = {'family' : 'normal',\n",
    "        'weight' : 'normal',\n",
    "        'size'   : 13}\n",
    "\n",
    "mpl.rc('font', **font)\n",
    "\n",
    "def example_inline():\n",
    "    plt.clf()\n",
    "\n",
    "from dwave.system.samplers import DWaveSampler\n",
    "from dwave.system.composites import EmbeddingComposite\n",
    "sampler = EmbeddingComposite(DWaveSampler())\n",
    "\n",
    "Z=3\n",
    "\n",
    "def KE(x):\n",
    "    return (1/2)*((1/ x[0]**2) + (1/ x[1]**2) + (4/ x[2]**2))\n",
    "\n",
    "\n",
    "\n",
    "def PE(x):\n",
    "    return (Z*(1/ x[0]) + Z*(1/ x[1]) + Z*(1/ x[2]))\n",
    "\n",
    "def IE(x):\n",
    "    return (1/ math.sqrt(x[0]**2 + x[1]**2))+ (1/ math.sqrt(x[0]**2 + x[2]**2))+ (1/ math.sqrt(x[1]**2 + x[2]**2))\n",
    "\n",
    "def EE(x,b):\n",
    "    return -2*b*(x[0]+x[1] + x[2])\n",
    "\n",
    "def objective(x,b):\n",
    "    return KE(x) - PE(x) + IE(x) + EE(x, b)\n",
    "\n",
    "\n",
    "# initial guesses\n",
    "i= 0.02\n",
    "#j=1.2\n",
    "n = 3\n",
    "x0 = np.zeros(n)\n",
    "x0[0] = 1.0\n",
    "x0[1] = 3.0\n",
    "x0[2] = 5.0\n",
    "\n",
    "m7 = []\n",
    "m8 = []\n",
    "# show initial objective\n",
    "#print('Initial Objective: ' + str(objective(x0, i)))\n",
    "#For j in np.arange(1.1,1.5, .1):\n",
    "\n",
    "ub= -0.03\n",
    "lb = 0.03\n",
    "\n",
    "\n",
    "for i in np.arange(ub,lb, .001):\n",
    "        \n",
    "    solution1 = minimize(objective,x0, i, method=\"Nelder-Mead\")\n",
    "    seed = solution1.x\n",
    "    \n",
    "    solution = minimize(objective,seed, i, method=\"Nelder-Mead\")\n",
    "    x = solution.x\n",
    "    \n",
    "    m= (x[1]-x[0])/x[1]\n",
    "    \n",
    "    h1 = (1/2)*(1/ x[0]**2) - (Z/ x[0])\n",
    "    h2 = (1/2)*(1/ x[1]**2) - (Z/ x[1])\n",
    "    h3 =(1/2)* (4/ x[2]**2) - (Z/ x[2]) \n",
    "    J12 =  (1/ math.sqrt(x[0]**2 + x[1]**2)) - (i*(x[0]) + i*(x[1]))\n",
    "    J13 =  (1/ math.sqrt(x[0]**2 + x[2]**2)) - (i*(x[0]) + i*(x[2]))\n",
    "    J23 =  (1/ math.sqrt(x[1]**2 + x[2]**2)) - (i*(x[1]) + i*(x[2]))\n",
    "    energy = objective(x, i)\n",
    "    #L=  (1/ math.sqrt(x[2]**2 + x[1]**2)) - (i*(x[1]) - i*(x[2]))\n",
    "    #- (i*(x[0]) - i*(x[1]))\n",
    "    #print(m)\n",
    "    # show final objective\n",
    "    #print('Final Objective: ' + str(objective(x, i)))\n",
    "    #energy = objective(x, i)\n",
    "    #- (i*(x[0]) - i*(x[1]))\n",
    "    #print(m)\n",
    "    Norm = math.sqrt((h1)**2 + (h2)**2+ (h3)**2 + (J12)**2 + (J13)**2 + (J23)**2)\n",
    "    norm_energy = (energy) / (Norm)\n",
    "    m1 = h1 / (Norm)\n",
    "    m2 = h2 / (Norm)\n",
    "    m3 = h3/(Norm)\n",
    "    m4 = J12 / (Norm)\n",
    "    m5 = J13 / (Norm)\n",
    "    m6 = J23 / (Norm)\n",
    "    \n",
    "    response = sampler.sample_ising({'a': m1, 'b': m2, 'c': m3}, {('a', 'b'): m4, ('b', 'c'): m5, ('a', 'c'): m6})\n",
    "    norm_energydwave= response.data_vectors['energy'] \n",
    "    #print(energy)\n",
    "\n",
    "    m8.append(norm_energydwave)\n",
    "    m7.append(norm_energy)\n",
    "    "
   ]
  },
  {
   "cell_type": "code",
   "execution_count": 12,
   "metadata": {},
   "outputs": [],
   "source": [
    "ub= -0.03\n",
    "lb = 0.03\n",
    "j= np.arange(ub,lb, .001)"
   ]
  },
  {
   "cell_type": "code",
   "execution_count": 13,
   "metadata": {},
   "outputs": [
    {
     "data": {
      "image/png": "[encoded data removed]",
      "text/plain": [
       "<Figure size 432x288 with 1 Axes>"
      ]
     },
     "metadata": {
      "needs_background": "light"
     },
     "output_type": "display_data"
    }
   ],
   "source": [
    "plt.figure(1)\n",
    "plt.scatter(j, m8, color='dodgerblue')\n",
    "plt.xlabel(r'$\\mathbf{\\mathcal{E}}$')\n",
    "plt.ylabel(r'$\\mathbf{Energy ~D-wave}$')\n",
    "#plt.title(r'$Normalized~ Energy ~D-wave$ vs $\\mathcal{E}$')\n",
    "plt.xlim(ub,lb)\n",
    "plt.show()\n",
    "    \n",
    "   "
   ]
  },
  {
   "cell_type": "code",
   "execution_count": 14,
   "metadata": {},
   "outputs": [
    {
     "data": {
      "image/png": "[encoded data removed]",
      "text/plain": [
       "<Figure size 432x288 with 1 Axes>"
      ]
     },
     "metadata": {
      "needs_background": "light"
     },
     "output_type": "display_data"
    }
   ],
   "source": [
    "plt.figure(1)\n",
    "plt.scatter(j, m7, color='dodgerblue')\n",
    "plt.xlabel(r'$\\mathbf{\\mathcal{E}}$')\n",
    "plt.ylabel(r'$\\mathbf{Normalized~energy}$')\n",
    "#plt.title(r'$Normalized~ Energy ~D-wave$ vs $\\mathcal{E}$')\n",
    "plt.xlim(ub,lb)\n",
    "plt.show()"
   ]
  },
  {
   "cell_type": "code",
   "execution_count": 15,
   "metadata": {},
   "outputs": [
    {
     "ename": "ValueError",
     "evalue": "too many values to unpack (expected 3)",
     "output_type": "error",
     "traceback": [
      "\u001b[1;31m---------------------------------------------------------------------------\u001b[0m",
      "\u001b[1;31mValueError\u001b[0m                                Traceback (most recent call last)",
      "\u001b[1;32m<ipython-input-15-c20a2047f006>\u001b[0m in \u001b[0;36m<module>\u001b[1;34m\u001b[0m\n\u001b[0;32m      8\u001b[0m \u001b[1;31m# Minor-embed and sample 1000 times on a default D-Wave system\u001b[0m\u001b[1;33m\u001b[0m\u001b[1;33m\u001b[0m\u001b[1;33m\u001b[0m\u001b[0m\n\u001b[0;32m      9\u001b[0m \u001b[0mresponse\u001b[0m \u001b[1;33m=\u001b[0m \u001b[0mEmbeddingComposite\u001b[0m\u001b[1;33m(\u001b[0m\u001b[0mDWaveSampler\u001b[0m\u001b[1;33m(\u001b[0m\u001b[1;33m)\u001b[0m\u001b[1;33m)\u001b[0m\u001b[1;33m.\u001b[0m\u001b[0msample_qubo\u001b[0m\u001b[1;33m(\u001b[0m\u001b[0mQ\u001b[0m\u001b[1;33m,\u001b[0m \u001b[0mnum_reads\u001b[0m\u001b[1;33m=\u001b[0m\u001b[1;36m1000\u001b[0m\u001b[1;33m)\u001b[0m\u001b[1;33m\u001b[0m\u001b[1;33m\u001b[0m\u001b[0m\n\u001b[1;32m---> 10\u001b[1;33m \u001b[1;32mfor\u001b[0m \u001b[0msample\u001b[0m\u001b[1;33m,\u001b[0m \u001b[0menergy\u001b[0m\u001b[1;33m,\u001b[0m \u001b[0mnum_occurrences\u001b[0m \u001b[1;32min\u001b[0m \u001b[0mresponse\u001b[0m\u001b[1;33m.\u001b[0m\u001b[0mdata\u001b[0m\u001b[1;33m(\u001b[0m\u001b[1;33m)\u001b[0m\u001b[1;33m:\u001b[0m\u001b[1;33m\u001b[0m\u001b[1;33m\u001b[0m\u001b[0m\n\u001b[0m\u001b[0;32m     11\u001b[0m     \u001b[0mprint\u001b[0m\u001b[1;33m(\u001b[0m\u001b[0msample\u001b[0m\u001b[1;33m,\u001b[0m \u001b[1;34m\"Energy: \"\u001b[0m\u001b[1;33m,\u001b[0m \u001b[0menergy\u001b[0m\u001b[1;33m,\u001b[0m \u001b[1;34m\"Occurrences: \"\u001b[0m\u001b[1;33m,\u001b[0m \u001b[0mnum_occurrences\u001b[0m\u001b[1;33m)\u001b[0m\u001b[1;33m\u001b[0m\u001b[1;33m\u001b[0m\u001b[0m\n\u001b[0;32m     12\u001b[0m \u001b[1;33m\u001b[0m\u001b[0m\n",
      "\u001b[1;31mValueError\u001b[0m: too many values to unpack (expected 3)"
     ]
    }
   ],
   "source": [
    "from dwave.system.samplers import DWaveSampler\n",
    "from dwave.system.composites import EmbeddingComposite\n",
    "# Set Q for the problem QUBO\n",
    "linear = {('x0', 'x0'): -1, ('x1', 'x1'): -1, ('x2', 'x2'): -1}\n",
    "quadratic = {('x0', 'x1'): 2, ('x0', 'x2'): 2, ('x1', 'x2'): 2}\n",
    "Q = dict(linear)\n",
    "Q.update(quadratic)\n",
    "# Minor-embed and sample 1000 times on a default D-Wave system\n",
    "response = EmbeddingComposite(DWaveSampler()).sample_qubo(Q, num_reads=1000)\n",
    "for sample, energy, num_occurrences in response.data():\n",
    "    print(sample, \"Energy: \", energy, \"Occurrences: \", num_occurrences)\n",
    "\n"
   ]
  },
  {
   "cell_type": "code",
   "execution_count": null,
   "metadata": {},
   "outputs": [],
   "source": [
    "import numpy as np\n",
    "import math \n",
    "from scipy.optimize import minimize\n",
    "import matplotlib as mpl\n",
    "import matplotlib.pyplot as plt\n",
    "from scipy.optimize import minimize, minimize_scalar\n",
    "from scipy import integrate\n",
    "%matplotlib inline\n",
    "#plt.rcParams.update({'font.size': 14})\n",
    "mpl.rc('xtick', labelsize=14) \n",
    "mpl.rc('ytick', labelsize=14)\n",
    "font = {'family' : 'normal',\n",
    "        'weight' : 'normal',\n",
    "        'size'   : 13}\n",
    "\n",
    "mpl.rc('font', **font)\n",
    "\n",
    "from dwave.system.samplers import DWaveSampler\n",
    "from dwave.system.composites import EmbeddingComposite\n",
    "sampler = EmbeddingComposite(DWaveSampler())\n",
    "\n",
    "Z=2\n",
    "\n",
    "def KE(x):\n",
    "    return (1/2)*((1/ x[0]**2) + (1/ x[1]**2))* (1/(math.sin(x[4])**2))\n",
    "\n",
    "def PE1(x,a):\n",
    "    return (Z*(1/ math.sqrt(x[0]**2 + (x[2]+a)**2))) + (Z*(1/ math.sqrt(x[0]**2 + (x[2]-a)**2)))\n",
    "\n",
    "def PE2(x,a):\n",
    "    return (Z*(1/ math.sqrt(x[1]**2 + (x[3]+a)**2))) + (Z*(1/ math.sqrt(x[1]**2 + (x[3]-a)**2)))\n",
    "\n",
    "def IE(x):\n",
    "    return 1/ math.sqrt((x[2]-x[3])**2 + x[0]**2 + x[1]**2 - 2*x[0]*x[1]*(math.cos(x[4])))\n",
    "\n",
    "\n",
    "def objective(x,a):\n",
    "    return KE(x) - PE1(x,a) - PE2(x,a) + IE(x)\n",
    "\n",
    "\n",
    "# initial guesses\n",
    "#i= 0.02\n",
    "#j=1.2\n",
    "n = 5\n",
    "x0 = np.zeros(n)\n",
    "x0[0] = 1.0\n",
    "x0[1] = 2.0\n",
    "x0[2] = 3.0                                                       \n",
    "x0[3] = 4.0\n",
    "x0[4] = 5.0\n",
    "                                                       \n",
    "# show initial objective\n",
    "#print('Initial Objective: ' + str(objective(x0, i)))\n",
    "#For j in np.arange(1.1,1.5, .1):\n",
    "\n",
    "ub= 0.0\n",
    "lb = 5.0\n",
    "\n",
    "\n",
    "for i in np.arange(ub,lb, 0.05):\n",
    "        \n",
    "    solution1 = minimize(objective,x0, i, method=\"Nelder-Mead\")\n",
    "    seed = solution1.x\n",
    "    \n",
    "    solution = minimize(objective,seed, i, method=\"Nelder-Mead\")\n",
    "    x = solution.x\n",
    "    \n",
    "    #m= (x[1]-x[0])/x[1]\n",
    "    \n",
    "    h1 = (1/2)*((1/ x[0]**2)* (1/(math.sin(x[4])**2))) - (Z*(1/ math.sqrt(x[0]**2 + (x[2]+i)**2))) - (Z*(1/ math.sqrt(x[0]**2 + (x[2]-i)**2)))\n",
    "    #h1 = (1/2)*((1/ x[0]**2)* (1/(math.sin(x[4])**2)) - (Z*(1/ math.sqrt(x[0]**2 + (x[2]+i)**2))) + (Z*(1/ math.sqrt(x[0]**2 + (x[2]-a)**2)))\n",
    "    h2 = (1/2)*((1/ x[1]**2)* (1/(math.sin(x[4])**2))) - (Z*(1/ math.sqrt(x[1]**2 + (x[3]+i)**2))) - (Z*(1/ math.sqrt(x[1]**2 + (x[3]-i)**2)))\n",
    "    #h2 = (1/2)*((1/ x[0]**2)* (1/(math.sin(x[4])**2)) - (Z*(1/ math.sqrt(x[0]**2 + (x[2]+i)**2))) + (Z*(1/ math.sqrt(x[0]**2 + (x[2]-a)**2)))\n",
    "                                              \n",
    "    J12 =  1/ math.sqrt((x[2]-x[3])**2 + x[0]**2 + x[1]**2 - 2*x[0]*x[1]*(math.cos(x[4])))\n",
    "    energy = objective(x, i)\n",
    "    \n",
    "    m1=h1\n",
    "    m2=h2\n",
    "    m3=J12\n",
    "    \n",
    "    response = sampler.sample_ising({'a': m1, 'b': m2}, {('a', 'b'): m3})\n",
    "    energydwave= response.data_vectors['energy'] \n",
    "\n",
    "      \n",
    "    plt.figure(1)\n",
    "    plt.scatter(i, energydwave, color='dodgerblue')\n",
    "    plt.xlabel(r'$\\mathbf{a}$') \n",
    "    plt.ylabel(r'$\\mathbf{Energy~ D-Wave}$')  \n",
    "    \n",
    "    \n",
    "    plt.figure(2)\n",
    "    plt.scatter(i, energy, color='dodgerblue')\n",
    "    plt.xlabel(r'$\\mathbf{a}$')\n",
    "    plt.ylabel(r'$\\mathbf{Energy}$')\n",
    "    #plt.title(r'$h_{11}$ vs z')\n",
    "    #plt.title(r'$critical ~ prameter$')\n",
    "    \n",
    "\n",
    "    \n",
    "    \n",
    "\n",
    "    \n",
    "    #print(m1, m2, m3, m4, m5, m6, i)"
   ]
  },
  {
   "cell_type": "code",
   "execution_count": null,
   "metadata": {},
   "outputs": [],
   "source": [
    "import numpy as np\n",
    "import math \n",
    "from scipy.optimize import minimize\n",
    "import matplotlib as mpl\n",
    "import matplotlib.pyplot as plt\n",
    "from scipy.optimize import minimize, minimize_scalar\n",
    "from scipy import integrate\n",
    "%matplotlib inline\n",
    "#plt.rcParams.update({'font.size': 14})\n",
    "mpl.rc('xtick', labelsize=14) \n",
    "mpl.rc('ytick', labelsize=14)\n",
    "font = {'family' : 'normal',\n",
    "        'weight' : 'normal',\n",
    "        'size'   : 13}\n",
    "\n",
    "mpl.rc('font', **font)\n",
    "\n",
    "from dwave.system.samplers import DWaveSampler\n",
    "from dwave.system.composites import EmbeddingComposite\n",
    "sampler = EmbeddingComposite(DWaveSampler())\n",
    "\n",
    "\n",
    "\n",
    "def KE(x,a):\n",
    "    return a*(a*(1/2)*((1/ x[0]**2)+ (1/ x[1]**2)))\n",
    "\n",
    "def PE(x,a):\n",
    "    return a*(a*(1/ x[0]) + a*(1/ x[1]))\n",
    "\n",
    "def IE(x,a):\n",
    "    return a*((1/ x[1])- ((x[0]**2)/ x[1])*(1/ (x[0]+x[1])**2) - ((x[0]**2)/(x[0]+x[1])**3))\n",
    "    \n",
    "\n",
    "def objective(x,a):\n",
    "    return KE(x,a) - PE(x,a) + IE(x,a)\n",
    "    #return (1/2)*((1/ x[0]**2)+ (1/ x[1]**2)) - (a*(1/ x[0]) + a*(1/ x[1])) + (1/ math.sqrt(x[0]**2 + x[1]**2))\n",
    "    \n",
    "    \n",
    "# initial guesses\n",
    "#i=1.2\n",
    "n = 2\n",
    "x0 = np.zeros(n)\n",
    "x0[0] = 1.0\n",
    "x0[1] = 2.0\n",
    "\n",
    "# show initial objective\n",
    "#print('Initial Objective: ' + str(objective(x0, i)))\n",
    "for i in np.arange(1, 20, 1):\n",
    "    solution1 = minimize(objective,x0, i, method=\"Nelder-Mead\")\n",
    "    seed = solution1.x\n",
    "    \n",
    "    solution = minimize(objective,seed, i, method=\"Nelder-Mead\")\n",
    "    x = solution.x\n",
    "    \n",
    "    h1 = i*(i*(1/2)*(1/ x[0]**2) - i*(1/ x[0]))\n",
    "    h2 = i*(i*(1/2)*(1/ x[1]**2) - i*(1/ x[1]))\n",
    "    J12 =  i*((1/ x[1])- ((x[0]**2)/ x[1])*(1/ (x[0]+x[1])**2) - ((x[0]**2)/(x[0]+x[1])**3))\n",
    "    energy= objective(x, i)\n",
    "    \n",
    "    m1=h1\n",
    "    m2=h2\n",
    "    m3=J12\n",
    "\n",
    "    response = sampler.sample_ising({'a': m1, 'b': m2}, {('a', 'b'): m3})\n",
    "    energydwave= response.data_vectors['energy'] \n",
    "\n",
    "      \n",
    "    plt.figure(1)\n",
    "    plt.scatter(i, energydwave, color='dodgerblue')\n",
    "    plt.xlabel(r'$\\mathbf{Z}$')\n",
    "    plt.ylabel(r'$\\mathbf{Energy~ D-Wave}$')  \n",
    "    \n",
    "    \n",
    "    plt.figure(2)\n",
    "    plt.scatter(i, energy, color='dodgerblue')\n",
    "    plt.xlabel(r'$\\mathbf{Z}$')\n",
    "    plt.ylabel(r'$\\mathbf{Energy}$')\n",
    "    \n",
    "\n",
    "    \n"
   ]
  },
  {
   "cell_type": "code",
   "execution_count": null,
   "metadata": {},
   "outputs": [],
   "source": []
  },
  {
   "cell_type": "code",
   "execution_count": null,
   "metadata": {},
   "outputs": [],
   "source": []
  },
  {
   "cell_type": "code",
   "execution_count": null,
   "metadata": {},
   "outputs": [],
   "source": []
  }
 ],
 "metadata": {
  "kernelspec": {
   "display_name": "Python 3",
   "language": "python",
   "name": "python3"
  },
  "language_info": {
   "codemirror_mode": {
    "name": "ipython",
    "version": 3
   },
   "file_extension": ".py",
   "mimetype": "text/x-python",
   "name": "python",
   "nbconvert_exporter": "python",
   "pygments_lexer": "ipython3",
   "version": "3.7.7"
  }
 },
 "nbformat": 4,
 "nbformat_minor": 2
}
